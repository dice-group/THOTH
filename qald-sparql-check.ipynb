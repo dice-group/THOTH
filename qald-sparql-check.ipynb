{
 "cells": [
  {
   "cell_type": "code",
   "execution_count": 1,
   "metadata": {},
   "outputs": [],
   "source": [
    "# Read all QALD-8 Queries\n",
    "# For each question\n",
    "    # Extract all URIs\n",
    "    # Find sameAs links to DE, FR, ES dbpedia\n",
    "    # If links exist in same language for all URIs then;\n",
    "        # generate sparql for all languages\n",
    "        # write the sparql like: \"query_<language-abbr>\": { \"saprql\": <sparql> }\n",
    "# Store the new QALD File\n",
    "# "
   ]
  },
  {
   "cell_type": "code",
   "execution_count": 2,
   "metadata": {},
   "outputs": [
    {
     "name": "stdout",
     "output_type": "stream",
     "text": [
      "qald-7-train-multilingual\n"
     ]
    }
   ],
   "source": [
    "# Load QALD8 questions\n",
    "\n",
    "# import urllib library\n",
    "from urllib.request import urlopen\n",
    "  \n",
    "# import json\n",
    "import json\n",
    "# store the URL in url as \n",
    "# parameter for urlopen\n",
    "url = \"https://raw.githubusercontent.com/ag-sc/QALD/master/7/data/qald-7-train-multilingual.json\"\n",
    "  \n",
    "# store the response of URL\n",
    "response = urlopen(url)\n",
    "  \n",
    "# storing the JSON response \n",
    "# from url in data\n",
    "data_json = json.loads(response.read())\n",
    "  \n",
    "# print the json response\n",
    "print(data_json['dataset']['id'])"
   ]
  },
  {
   "cell_type": "code",
   "execution_count": null,
   "metadata": {},
   "outputs": [],
   "source": [
    "\n",
    "for question in data_json['questions']:\n",
    "    sparql = question['query']['sparql']\n",
    "    temp_res1 = re.findall('res:[^\\s\\.]+',sparql)\n",
    "    temp_res1 = [w.replace('res:', 'http://dbpedia.org/resource/') for w in temp_res1]\n",
    "    temp_res2 = re.findall('http://dbpedia.org/resource/[^>]+', sparql)\n",
    "    ent_list.update(temp_res1)\n",
    "    ent_list.update(temp_res2)\n",
    "    # print(temp_res1, temp_res2)\n"
   ]
  }
 ],
 "metadata": {
  "kernelspec": {
   "display_name": "Python 3",
   "language": "python",
   "name": "python3"
  },
  "language_info": {
   "codemirror_mode": {
    "name": "ipython",
    "version": 3
   },
   "file_extension": ".py",
   "mimetype": "text/x-python",
   "name": "python",
   "nbconvert_exporter": "python",
   "pygments_lexer": "ipython3",
   "version": "3.8.3"
  }
 },
 "nbformat": 4,
 "nbformat_minor": 4
}
