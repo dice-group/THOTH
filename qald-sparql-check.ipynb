{
 "cells": [
  {
   "cell_type": "code",
   "execution_count": 1,
   "metadata": {},
   "outputs": [],
   "source": [
    "# Read all QALD-8 Queries\n",
    "# For each question\n",
    "    # Extract all URIs\n",
    "    # Find sameAs links to DE, FR, ES dbpedia\n",
    "    # If links exist in same language for all URIs then;\n",
    "        # generate sparql for all languages\n",
    "        # write the sparql like: \"query_<language-abbr>\": { \"sparql\": <sparql> }\n",
    "# Store the new QALD File"
   ]
  },
  {
   "cell_type": "code",
   "execution_count": 14,
   "metadata": {},
   "outputs": [
    {
     "name": "stdout",
     "output_type": "stream",
     "text": [
      "qald-7-train-multilingual\n"
     ]
    }
   ],
   "source": [
    "# Load QALD8 questions\n",
    "\n",
    "# import urllib library\n",
    "from urllib.request import urlopen\n",
    "  \n",
    "# import json\n",
    "import json\n",
    "# store the URL in url as \n",
    "# parameter for urlopen\n",
    "url = \"https://raw.githubusercontent.com/ag-sc/QALD/master/7/data/qald-7-train-multilingual.json\"\n",
    "  \n",
    "# store the response of URL\n",
    "response = urlopen(url)\n",
    "  \n",
    "# storing the JSON response \n",
    "# from url in data\n",
    "data_json = json.loads(response.read())\n",
    "  \n",
    "# print the json response\n",
    "print(data_json['dataset']['id'])"
   ]
  },
  {
   "cell_type": "code",
   "execution_count": 12,
   "metadata": {},
   "outputs": [],
   "source": [
    "import time\n",
    "from SPARQLWrapper import SPARQLWrapper, JSON\n",
    "from string import Template\n",
    "\n",
    "sparql = SPARQLWrapper(\"http://dbpedia.org/sparql\")\n",
    "sparql_template = 'SELECT ?l WHERE { <$uri> owl:sameAs ?l . FILTER(regex(str(?l), \"http://$lang.dbpedia.org/\" )) }'\n",
    "def fetch_links(uri, lang):\n",
    "    links_set = set()\n",
    "    # form the sparql\n",
    "    query = Template(sparql_template).substitute(uri=uri, lang=lang)\n",
    "    # query\n",
    "    sparql.setQuery(query)\n",
    "    sparql.setReturnFormat(JSON)\n",
    "    results = sparql.query().convert()\n",
    "\n",
    "    #print('Result size:',len(results[\"results\"][\"bindings\"]))\n",
    "\n",
    "    for result in results[\"results\"][\"bindings\"]:\n",
    "        links_set.add(result['l']['value'])\n",
    "    \n",
    "    time.sleep(0.1)\n",
    "    return links_set\n",
    "\n",
    "# function to check and return links for URIs in a given language\n",
    "def check_links(uri_list, lang):\n",
    "    missing_links = False\n",
    "    # For each uri look for language specific links\n",
    "    link_map = {}\n",
    "    for uri in uri_list:\n",
    "        links_set = fetch_links(uri, lang)\n",
    "        if len(links_set) == 0:\n",
    "            missing_links = True\n",
    "        link_map[uri] = links_set\n",
    "    return (missing_links, link_map)"
   ]
  },
  {
   "cell_type": "code",
   "execution_count": 14,
   "metadata": {},
   "outputs": [],
   "source": [
    "# Test Block\n",
    "# print(check_links({'http://dbpedia.org/resource/Barack_Obama','http://dbpedia.org/resource/Donald_Trump'},'de'))"
   ]
  },
  {
   "cell_type": "code",
   "execution_count": null,
   "metadata": {},
   "outputs": [],
   "source": [
    "# Convert SPARQL\n",
    "def convert_sparql(sparql, prefix_tuples, uris, lang):\n",
    "    # fetch the links for tuples\n",
    "    # fetch the links for uris\n",
    "    # if missing links then return null\n",
    "    # create unique combinations for links\n",
    "    # for each combination, create sparql\n",
    "    # return all the sparql queries\n",
    "def get_all_sparql(sparql, prefix_tuples, uris):\n",
    "    # for each langauge fetch the sparql queries\n",
    "    # return the queries"
   ]
  },
  {
   "cell_type": "code",
   "execution_count": 13,
   "metadata": {},
   "outputs": [
    {
     "name": "stdout",
     "output_type": "stream",
     "text": [
      "Total 381 unique URIs found.\n"
     ]
    }
   ],
   "source": [
    "import re\n",
    "prefix_map = {}\n",
    "uris = set()\n",
    "for question in data_json['questions']:\n",
    "    sparql_uris = set()\n",
    "    sparql = question['query']['sparql']    \n",
    "   # extract all prefixes to make a map\n",
    "    prefix_tuples=re.findall('PREFIX\\s+([a-zA-Z0-9]+):\\s+<(.*?)>',sparql, re.IGNORECASE)\n",
    "    for entry in prefix_tuples:\n",
    "        prefix_map[entry[0]] = entry[1]\n",
    "    #print(prefix_map)\n",
    "    # extract all prefix mentions\n",
    "    prefix_mentions = re.findall('{?[\\s\\t\\n\\r]+([\\w\\d]+):([^<\\s]+)',sparql, re.IGNORECASE)\n",
    "    #print(prefix_mentions)\n",
    "    # join the local name with prefix and store it in uri set\n",
    "    \n",
    "    for entry in prefix_mentions:\n",
    "        sparql_uris.add(prefix_map[entry[0]]+entry[1])\n",
    "    # print(uris)\n",
    "    # extract all direct uri mentions\n",
    "    extra_uris = re.findall('<(.*?)>',sparql, re.IGNORECASE)\n",
    "    sparql_uris.update(extra_uris)\n",
    "    # Generate and save language specific SPARQL queries \n",
    "    uris.update(sparql_uris)\n",
    "print('Total', len(uris) , 'unique URIs found.')"
   ]
  },
  {
   "cell_type": "code",
   "execution_count": null,
   "metadata": {},
   "outputs": [],
   "source": []
  },
  {
   "cell_type": "code",
   "execution_count": null,
   "metadata": {},
   "outputs": [],
   "source": []
  },
  {
   "cell_type": "code",
   "execution_count": null,
   "metadata": {},
   "outputs": [],
   "source": [
    "\n"
   ]
  },
  {
   "cell_type": "code",
   "execution_count": null,
   "metadata": {},
   "outputs": [],
   "source": []
  }
 ],
 "metadata": {
  "kernelspec": {
   "display_name": "Python 3",
   "language": "python",
   "name": "python3"
  },
  "language_info": {
   "codemirror_mode": {
    "name": "ipython",
    "version": 3
   },
   "file_extension": ".py",
   "mimetype": "text/x-python",
   "name": "python",
   "nbconvert_exporter": "python",
   "pygments_lexer": "ipython3",
   "version": "3.8.8"
  }
 },
 "nbformat": 4,
 "nbformat_minor": 4
}
