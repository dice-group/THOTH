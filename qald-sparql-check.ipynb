{
 "cells": [
  {
   "cell_type": "code",
   "execution_count": 1,
   "metadata": {},
   "outputs": [],
   "source": [
    "# Read all QALD-8 Queries\n",
    "# For each question\n",
    "    # Extract all URIs\n",
    "    # Find sameAs links to DE, FR, ES dbpedia\n",
    "    # If links exist in same language for all URIs then;\n",
    "        # generate sparql for all languages\n",
    "        # write the sparql like: \"query_<language-abbr>\": { \"sparql\": <sparql> }\n",
    "# Store the new QALD File"
   ]
  },
  {
   "cell_type": "code",
   "execution_count": 24,
   "metadata": {},
   "outputs": [
    {
     "name": "stdout",
     "output_type": "stream",
     "text": [
      "qald-7-train-multilingual\n"
     ]
    }
   ],
   "source": [
    "# Load QALD8 questions\n",
    "\n",
    "# import urllib library\n",
    "from urllib.request import urlopen\n",
    "  \n",
    "# import json\n",
    "import json\n",
    "# store the URL in url as \n",
    "# parameter for urlopen\n",
    "url = \"https://raw.githubusercontent.com/ag-sc/QALD/master/7/data/qald-7-train-multilingual.json\"\n",
    "  \n",
    "# store the response of URL\n",
    "response = urlopen(url)\n",
    "  \n",
    "# storing the JSON response \n",
    "# from url in data\n",
    "data_json = json.loads(response.read())\n",
    "  \n",
    "# print the json response\n",
    "print(data_json['dataset']['id'])"
   ]
  },
  {
   "cell_type": "code",
   "execution_count": 25,
   "metadata": {},
   "outputs": [],
   "source": [
    "import time\n",
    "from SPARQLWrapper import SPARQLWrapper, JSON\n",
    "from string import Template\n",
    "\n",
    "sparql = SPARQLWrapper(\"http://dbpedia.org/sparql\")\n",
    "# Choosing to fetch only one link\n",
    "sparql_template = 'SELECT ?l WHERE { <$uri> owl:sameAs ?l . FILTER(regex(str(?l), \"http://$lang.dbpedia.org/\" )) }'\n",
    "sparql_template2 = 'SELECT ?l WHERE { <$uri> owl:sameAs ?l . FILTER(regex(str(?l), \"http://$lang.dbpedia.org/\" )) } LIMIT 1'\n",
    "def fetch_links(uri, lang):\n",
    "    links_set = set()\n",
    "    # form the sparql\n",
    "    query = Template(sparql_template).substitute(uri=uri, lang=lang)\n",
    "    # query\n",
    "    sparql.setQuery(query)\n",
    "    sparql.setReturnFormat(JSON)\n",
    "    results = sparql.query().convert()\n",
    "\n",
    "    #print('Result size:',len(results[\"results\"][\"bindings\"]))\n",
    "\n",
    "    for result in results[\"results\"][\"bindings\"]:\n",
    "        links_set.add(result['l']['value'])\n",
    "    \n",
    "    time.sleep(0.1)\n",
    "    return links_set\n",
    "\n",
    "def fetch_single_link(uri, lang):\n",
    "    single_link = None\n",
    "    # form the sparql\n",
    "    query = Template(sparql_template2).substitute(uri=uri, lang=lang)\n",
    "    # query\n",
    "    sparql.setQuery(query)\n",
    "    sparql.setReturnFormat(JSON)\n",
    "    results = sparql.query().convert()\n",
    "    #print(results)\n",
    "    #print('Result size:',len(results[\"results\"][\"bindings\"]))\n",
    "\n",
    "    for result in results[\"results\"][\"bindings\"]:\n",
    "        single_link = result['l']['value']\n",
    "    \n",
    "    time.sleep(0.1)\n",
    "    return single_link\n",
    "\n",
    "# function to check and return links for URIs in a given language\n",
    "def check_links(uri_list, lang):\n",
    "    missing_links = False\n",
    "    # For each uri look for language specific links\n",
    "    link_map = {}\n",
    "    for uri in uri_list:\n",
    "        links_set = fetch_links(uri, lang)\n",
    "        if len(links_set) == 0:\n",
    "            missing_links = True\n",
    "        link_map[uri] = links_set\n",
    "    return (missing_links, link_map)"
   ]
  },
  {
   "cell_type": "code",
   "execution_count": 26,
   "metadata": {},
   "outputs": [
    {
     "name": "stdout",
     "output_type": "stream",
     "text": [
      "(True, {'http://dbpedia.org/resource/Colombo_Lighthouse': set(), 'http://dbpedia.org/resource/Donald_Trump': {'http://fr.dbpedia.org/resource/Donald_Trump'}})\n"
     ]
    }
   ],
   "source": [
    "# Test Block\n",
    "print(check_links({'http://dbpedia.org/resource/Colombo_Lighthouse','http://dbpedia.org/resource/Donald_Trump'},'fr'))"
   ]
  },
  {
   "cell_type": "code",
   "execution_count": 27,
   "metadata": {},
   "outputs": [],
   "source": [
    "endpoint_dict = { 'de': 'http://de.dbpedia.org/sparql', 'es': 'https://es.dbpedia.org/sparql', 'fr': 'http://fr.dbpedia.org/sparql'}"
   ]
  },
  {
   "cell_type": "code",
   "execution_count": 45,
   "metadata": {},
   "outputs": [],
   "source": [
    "# Convert SPARQL\n",
    "def convert_sparql(sparql_str, prefix_mentions, uris, lang):\n",
    "    link_map = {}\n",
    "    # fetch the links for tuples\n",
    "    for entry in prefix_mentions.keys():\n",
    "        id = entry\n",
    "        uri = prefix_mentions[entry]\n",
    "        single_link = fetch_single_link(uri, lang)\n",
    "        #print(single_link)\n",
    "        if single_link:\n",
    "            link_map[id] = '<'+single_link+'>'\n",
    "    # fetch the links for uris\n",
    "    for uri in uris:\n",
    "        single_link = fetch_single_link(uri, lang)\n",
    "        if single_link:\n",
    "            link_map[uri] = single_link\n",
    "    #print('link map', link_map)\n",
    "    if len(link_map) == 0:\n",
    "        return None\n",
    "    # create sparql\n",
    "    rep = dict((re.escape(k), v) for k, v in link_map.items()) \n",
    "    pattern = re.compile(\"|\".join(rep.keys()))\n",
    "    sparql_str = pattern.sub(lambda m: rep[re.escape(m.group(0))], sparql_str)\n",
    "    #print(lang,'SPARQL:',sparql_str)\n",
    "    # return the sparql\n",
    "    return sparql_str\n",
    "def get_all_sparql(sparql_str, prefix_mentions, uris):\n",
    "    sparql_map = {}\n",
    "    # for each language fetch the sparql queries\n",
    "    for lang in endpoint_dict.keys():\n",
    "        sparql_map[lang] = convert_sparql(sparql_str, prefix_mentions, uris, lang)\n",
    "    # return the queries\n",
    "    return sparql_map"
   ]
  },
  {
   "cell_type": "code",
   "execution_count": 46,
   "metadata": {},
   "outputs": [],
   "source": [
    "# Testing replacement\n"
   ]
  },
  {
   "cell_type": "code",
   "execution_count": 47,
   "metadata": {},
   "outputs": [
    {
     "name": "stdout",
     "output_type": "stream",
     "text": [
      " Progress: 215 / 215"
     ]
    }
   ],
   "source": [
    "import re\n",
    "prefix_map = {}\n",
    "count = 0\n",
    "total_len = len(data_json['questions'])\n",
    "for question in data_json['questions']:\n",
    "    #sparql_uris = set()\n",
    "    sparql_str = question['query']['sparql']\n",
    "    #print('Original SPARQL:',sparql_str)\n",
    "    #print('SPARQL:', sparql_str)\n",
    "    # extract all prefixes to make a map\n",
    "    prefix_tuples=re.findall('PREFIX\\s+([a-zA-Z0-9]+):\\s+<(.*?)>',sparql_str, re.IGNORECASE)\n",
    "    for entry in prefix_tuples:\n",
    "        prefix_map[entry[0]] = entry[1]\n",
    "    #print(prefix_map)\n",
    "    # extract all prefix mentions\n",
    "    prefix_mentions = re.findall('{?[\\s\\t\\n\\r]+([\\w\\d]+):([^<\\s]+)',sparql_str, re.IGNORECASE)\n",
    "    #print(prefix_mentions)\n",
    "    # join the local name with prefix and store it in uri set\n",
    "    abbr_map = {}\n",
    "    for entry in prefix_mentions:\n",
    "        formed_uri = prefix_map[entry[0]]+entry[1]\n",
    "        abbr_map[entry[0]+':'+entry[1]] = formed_uri\n",
    "        #sparql_uris.add(formed_uri)\n",
    "    #print(uris)\n",
    "    # extract all direct uri mentions\n",
    "    extra_uris = re.findall('<(.*?)>',sparql_str, re.IGNORECASE)\n",
    "    #sparql_uris.update(extra_uris)\n",
    "    # Generate and save language specific SPARQL queries\n",
    "    sparql_map = get_all_sparql(sparql_str, abbr_map, extra_uris)\n",
    "    count+= 1\n",
    "    for lang in sparql_map.keys():\n",
    "        question['query']['sparql_'+lang] = sparql_map[lang]\n",
    "    print('\\r','Progress:',count,'/',total_len,end='')\n",
    "    # print('Translated SPARQL',sparql_map)"
   ]
  },
  {
   "cell_type": "code",
   "execution_count": 48,
   "metadata": {},
   "outputs": [
    {
     "name": "stdout",
     "output_type": "stream",
     "text": [
      "{'id': '0', 'answertype': 'date', 'aggregation': False, 'onlydbo': True, 'hybrid': False, 'question': [{'language': 'en', 'string': 'When was the Battle of Gettysburg?', 'keywords': 'Battle of Gettysburg'}, {'language': 'pt_BR', 'string': 'Quando foi a batalha de Gettysburg?', 'keywords': 'batalha de Gettysburg'}, {'language': 'de', 'string': 'Wann fand die Schlacht von Gettysburg statt?', 'keywords': 'Schlacht von Gettysburg'}, {'language': 'es', 'string': '¿Cuándo tuvo lugar la batalla de Gettysburg?', 'keywords': 'batalla de Gettysburg'}, {'language': 'it', 'string': 'Quando ha avuto luogo la battaglia di Gettysburg?', 'keywords': 'battaglia di Gettysburg'}, {'language': 'fr', 'string': 'Quand se déroula la bataille de Gettysburg?', 'keywords': 'bataille de Gettysburg, quand'}, {'language': 'nl', 'string': 'Wanneer was de Slag bij Gettysburg?', 'keywords': 'Slag bij Gettysburg'}, {'language': 'hi_IN', 'string': 'गेटिसबर्ग का युद्ध कब हुआ था?', 'keywords': 'गेटिसबर्ग का युद्ध'}], 'query': {'sparql': 'PREFIX dbo: <http://dbpedia.org/ontology/>\\nPREFIX res: <http://dbpedia.org/resource/>\\nSELECT DISTINCT ?date \\nWHERE { \\n       res:Battle_of_Gettysburg dbo:date ?date .\\n}', 'sparql_de': 'PREFIX dbo: <http://dbpedia.org/ontology/>\\nPREFIX res: <http://dbpedia.org/resource/>\\nSELECT DISTINCT ?date \\nWHERE { \\n       <http://de.dbpedia.org/resource/Schlacht_von_Gettysburg> dbo:date ?date .\\n}', 'sparql_es': 'PREFIX dbo: <http://dbpedia.org/ontology/>\\nPREFIX res: <http://dbpedia.org/resource/>\\nSELECT DISTINCT ?date \\nWHERE { \\n       <http://es.dbpedia.org/resource/Batalla_de_Gettysburg> dbo:date ?date .\\n}', 'sparql_fr': 'PREFIX dbo: <http://dbpedia.org/ontology/>\\nPREFIX res: <http://dbpedia.org/resource/>\\nSELECT DISTINCT ?date \\nWHERE { \\n       <http://fr.dbpedia.org/resource/Bataille_de_Gettysburg> dbo:date ?date .\\n}'}, 'answers': {'head': {'link': [], 'vars': ['date']}, 'results': {'distinct': False, 'ordered': True, 'bindings': []}}, 'answers_de': {'head': {'link': [], 'vars': ['date']}, 'results': {'distinct': False, 'ordered': True, 'bindings': []}}, 'answers_es': {'head': {'link': [], 'vars': ['date']}, 'results': {'distinct': False, 'ordered': True, 'bindings': []}}, 'answers_fr': {'head': {'link': [], 'vars': ['date']}, 'results': {'distinct': False, 'ordered': True, 'bindings': []}}}\n"
     ]
    }
   ],
   "source": [
    "# Testing SPARQL modification\n",
    "print(data_json['questions'][0])"
   ]
  },
  {
   "cell_type": "code",
   "execution_count": 39,
   "metadata": {},
   "outputs": [
    {
     "name": "stdout",
     "output_type": "stream",
     "text": [
      "Modified QALD JSON written to file.\n"
     ]
    }
   ],
   "source": [
    "import json\n",
    "with open('porque-test/qald-7-train-multilingual_translated-sparql.json', 'w') as out:\n",
    "    out.write(json.dumps(data_json, indent=4, sort_keys=True))\n",
    "print('Modified QALD JSON written to file.')"
   ]
  },
  {
   "cell_type": "code",
   "execution_count": 12,
   "metadata": {},
   "outputs": [
    {
     "name": "stdout",
     "output_type": "stream",
     "text": [
      "qald-7-train-multilingual\n"
     ]
    }
   ],
   "source": [
    "# Run this block in case the modified json is not in memory\n",
    "# Reading JSON from disk\n",
    "import json\n",
    "data_json = json.load(open('porque-test/qald-7-train-multilingual_translated-sparql.json', 'r'))\n",
    "# print the metadata\n",
    "print(data_json['dataset']['id'])"
   ]
  },
  {
   "cell_type": "code",
   "execution_count": 49,
   "metadata": {},
   "outputs": [],
   "source": [
    "endpoint_dict = { 'de': SPARQLWrapper('http://de.dbpedia.org/sparql'), 'es': SPARQLWrapper('https://es.dbpedia.org/sparql'), 'fr': SPARQLWrapper('http://fr.dbpedia.org/sparql')}"
   ]
  },
  {
   "cell_type": "code",
   "execution_count": 50,
   "metadata": {},
   "outputs": [],
   "source": [
    "# Compare the answers fetched by sparql queries of each question\n",
    "import time\n",
    "from SPARQLWrapper import SPARQLWrapper, JSON\n",
    "from string import Template\n",
    "\n",
    "sparql_en = SPARQLWrapper(\"http://dbpedia.org/sparql\")"
   ]
  },
  {
   "cell_type": "code",
   "execution_count": 51,
   "metadata": {},
   "outputs": [
    {
     "name": "stdout",
     "output_type": "stream",
     "text": [
      " Progress: 215 / 215"
     ]
    }
   ],
   "source": [
    "count=0\n",
    "total_len=len(data_json['questions'])\n",
    "for question in data_json['questions']:\n",
    "    #sparql_uris = set()\n",
    "    sparql_str = question['query']['sparql']\n",
    "    # query\n",
    "    sparql_en.setQuery(sparql_str)\n",
    "    sparql_en.setReturnFormat(JSON)\n",
    "    results_en = sparql_en.query().convert()\n",
    "    question['answers'] = results_en\n",
    "    for lang in endpoint_dict.keys():\n",
    "        sparql_endpoint = endpoint_dict[lang]\n",
    "        sparql_str = question['query']['sparql_'+lang]\n",
    "        if sparql_str and len(sparql_str) > 0:\n",
    "            sparql_endpoint.setQuery(sparql_str)\n",
    "            sparql_endpoint.setReturnFormat(JSON)\n",
    "            results_l = sparql_endpoint.query().convert()\n",
    "            question['answers_'+lang] = results_l\n",
    "    count+=1\n",
    "    print('\\r','Progress:',count,'/',total_len,end='')"
   ]
  },
  {
   "cell_type": "code",
   "execution_count": null,
   "metadata": {},
   "outputs": [],
   "source": []
  },
  {
   "cell_type": "code",
   "execution_count": 52,
   "metadata": {},
   "outputs": [
    {
     "name": "stdout",
     "output_type": "stream",
     "text": [
      "Modified QALD JSON written to file.\n"
     ]
    }
   ],
   "source": [
    "with open('porque-test/qald-7-train-multilingual_translated-sparql-answers.json', 'w') as out:\n",
    "    out.write(json.dumps(data_json, indent=4, sort_keys=True))\n",
    "print('Modified QALD JSON written to file.')"
   ]
  },
  {
   "cell_type": "code",
   "execution_count": null,
   "metadata": {},
   "outputs": [],
   "source": []
  }
 ],
 "metadata": {
  "kernelspec": {
   "display_name": "Python 3",
   "language": "python",
   "name": "python3"
  },
  "language_info": {
   "codemirror_mode": {
    "name": "ipython",
    "version": 3
   },
   "file_extension": ".py",
   "mimetype": "text/x-python",
   "name": "python",
   "nbconvert_exporter": "python",
   "pygments_lexer": "ipython3",
   "version": "3.8.8"
  }
 },
 "nbformat": 4,
 "nbformat_minor": 4
}
